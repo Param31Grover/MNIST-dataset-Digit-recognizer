{
  "metadata": {
    "kernelspec": {
      "language": "python",
      "display_name": "Python 3",
      "name": "python3"
    },
    "language_info": {
      "name": "python",
      "version": "3.10.12",
      "mimetype": "text/x-python",
      "codemirror_mode": {
        "name": "ipython",
        "version": 3
      },
      "pygments_lexer": "ipython3",
      "nbconvert_exporter": "python",
      "file_extension": ".py"
    },
    "colab": {
      "provenance": []
    }
  },
  "nbformat_minor": 0,
  "nbformat": 4,
  "cells": [
    {
      "cell_type": "markdown",
      "source": [
        "**Import Libraries and Load Data**"
      ],
      "metadata": {
        "id": "TmBO5C-Aw7-i"
      }
    },
    {
      "cell_type": "code",
      "source": [
        "import numpy as np\n",
        "import pandas as pd\n",
        "import matplotlib.pyplot as plt\n",
        "from sklearn.model_selection import train_test_split\n",
        "import tensorflow as tf\n",
        "from tensorflow.keras.preprocessing.image import ImageDataGenerator\n",
        "from tensorflow.keras.layers import Conv2D, MaxPooling2D, Flatten, Dense, Dropout, BatchNormalization\n",
        "from tensorflow.keras.callbacks import LearningRateScheduler, EarlyStopping\n",
        "from tensorflow.keras.models import Sequential\n",
        "\n",
        "import os"
      ],
      "metadata": {
        "_uuid": "8f2839f25d086af736a60e9eeb907d3b93b6e0e5",
        "_cell_guid": "b1076dfc-b9ad-4769-8c92-a6c4dae69d19",
        "execution": {
          "iopub.status.busy": "2023-08-23T09:30:45.674900Z",
          "iopub.execute_input": "2023-08-23T09:30:45.675499Z",
          "iopub.status.idle": "2023-08-23T09:30:58.094009Z",
          "shell.execute_reply.started": "2023-08-23T09:30:45.675455Z",
          "shell.execute_reply": "2023-08-23T09:30:58.092840Z"
        },
        "trusted": true,
        "id": "8VyjsIrvw7-i"
      },
      "execution_count": 1,
      "outputs": []
    },
    {
      "cell_type": "code",
      "source": [
        "from google.colab import drive\n",
        "drive.mount('/content/drive')\n"
      ],
      "metadata": {
        "colab": {
          "base_uri": "https://localhost:8080/"
        },
        "id": "Pwqc3TguyMNo",
        "outputId": "90eea9d3-9e2c-443a-cc48-13db5b44988b"
      },
      "execution_count": 2,
      "outputs": [
        {
          "output_type": "stream",
          "name": "stdout",
          "text": [
            "Mounted at /content/drive\n"
          ]
        }
      ]
    },
    {
      "cell_type": "markdown",
      "source": [
        "**Load the MNIST dataset**"
      ],
      "metadata": {
        "id": "5K4bFOfsw7-j"
      }
    },
    {
      "cell_type": "code",
      "source": [
        "train = pd.read_csv(\"/content/drive/MyDrive/MNSIT_Database/train.csv\")\n",
        "test = pd.read_csv(\"/content/drive/MyDrive/MNSIT_Database/test.csv\")"
      ],
      "metadata": {
        "execution": {
          "iopub.status.busy": "2023-08-23T09:30:58.098053Z",
          "iopub.execute_input": "2023-08-23T09:30:58.099481Z",
          "iopub.status.idle": "2023-08-23T09:31:03.738635Z",
          "shell.execute_reply.started": "2023-08-23T09:30:58.099429Z",
          "shell.execute_reply": "2023-08-23T09:31:03.737621Z"
        },
        "trusted": true,
        "id": "VYXJuRgAw7-j"
      },
      "execution_count": 3,
      "outputs": []
    },
    {
      "cell_type": "markdown",
      "source": [
        "**Split the data into features (X) and labels (y)**"
      ],
      "metadata": {
        "id": "_uArvJeEw7-j"
      }
    },
    {
      "cell_type": "code",
      "source": [
        "X = train.drop(\"label\", axis=1).values\n",
        "y = train[\"label\"].values\n",
        "X_test = test.values"
      ],
      "metadata": {
        "execution": {
          "iopub.status.busy": "2023-08-23T09:31:03.740215Z",
          "iopub.execute_input": "2023-08-23T09:31:03.740885Z",
          "iopub.status.idle": "2023-08-23T09:31:03.947620Z",
          "shell.execute_reply.started": "2023-08-23T09:31:03.740849Z",
          "shell.execute_reply": "2023-08-23T09:31:03.946613Z"
        },
        "trusted": true,
        "id": "vN39mW9rw7-j"
      },
      "execution_count": 4,
      "outputs": []
    },
    {
      "cell_type": "markdown",
      "source": [
        "**Data Preprocessing:**\n",
        "\n",
        "* Reshape the data into 28x28 pixel images.\n",
        "* Normalize the pixel values to a range of [0, 1]."
      ],
      "metadata": {
        "id": "qzbfeQrZw7-j"
      }
    },
    {
      "cell_type": "code",
      "source": [
        "X = X.reshape(-1, 28, 28, 1) / 255.0\n",
        "X_test = X_test.reshape(-1, 28, 28, 1) / 255.0"
      ],
      "metadata": {
        "execution": {
          "iopub.status.busy": "2023-08-23T09:31:03.949726Z",
          "iopub.execute_input": "2023-08-23T09:31:03.950030Z",
          "iopub.status.idle": "2023-08-23T09:31:04.278463Z",
          "shell.execute_reply.started": "2023-08-23T09:31:03.950005Z",
          "shell.execute_reply": "2023-08-23T09:31:04.277039Z"
        },
        "trusted": true,
        "id": "kZSiVwMhw7-j"
      },
      "execution_count": 5,
      "outputs": []
    },
    {
      "cell_type": "markdown",
      "source": [
        "**Split Data into Training and Validation Sets:**"
      ],
      "metadata": {
        "id": "dYbmO_Yjw7-k"
      }
    },
    {
      "cell_type": "code",
      "source": [
        "X_train, X_val, y_train, y_val = train_test_split(X, y, test_size=0.2, random_state=42)"
      ],
      "metadata": {
        "execution": {
          "iopub.status.busy": "2023-08-23T09:31:04.280166Z",
          "iopub.execute_input": "2023-08-23T09:31:04.280667Z",
          "iopub.status.idle": "2023-08-23T09:31:04.928060Z",
          "shell.execute_reply.started": "2023-08-23T09:31:04.280603Z",
          "shell.execute_reply": "2023-08-23T09:31:04.926756Z"
        },
        "trusted": true,
        "id": "q53N2Sisw7-k"
      },
      "execution_count": 6,
      "outputs": []
    },
    {
      "cell_type": "markdown",
      "source": [
        "**Data Augmentation**"
      ],
      "metadata": {
        "id": "HTLSKqKcw7-k"
      }
    },
    {
      "cell_type": "code",
      "source": [
        "datagen = ImageDataGenerator(\n",
        "    rotation_range=10,\n",
        "    width_shift_range=0.1,\n",
        "    height_shift_range=0.1,\n",
        "    shear_range=0.2,\n",
        "    zoom_range=0.2,\n",
        "    horizontal_flip=True\n",
        ")\n",
        "datagen.fit(X_train)"
      ],
      "metadata": {
        "execution": {
          "iopub.status.busy": "2023-08-23T09:31:04.929267Z",
          "iopub.execute_input": "2023-08-23T09:31:04.929592Z",
          "iopub.status.idle": "2023-08-23T09:31:05.128411Z",
          "shell.execute_reply.started": "2023-08-23T09:31:04.929564Z",
          "shell.execute_reply": "2023-08-23T09:31:05.126809Z"
        },
        "trusted": true,
        "id": "iKh5rOvcw7-k"
      },
      "execution_count": 7,
      "outputs": []
    },
    {
      "cell_type": "markdown",
      "source": [
        "**Learning Rate Scheduler**"
      ],
      "metadata": {
        "id": "Lfw6wZGnw7-k"
      }
    },
    {
      "cell_type": "code",
      "source": [
        "def lr_schedule(epoch):\n",
        "    initial_lr = 0.001\n",
        "    if epoch < 5:\n",
        "        return initial_lr\n",
        "    else:\n",
        "        return initial_lr * tf.math.exp(0.1 * (5 - epoch))\n",
        "\n",
        "lr_scheduler = LearningRateScheduler(lr_schedule)\n"
      ],
      "metadata": {
        "execution": {
          "iopub.status.busy": "2023-08-23T09:31:05.130389Z",
          "iopub.execute_input": "2023-08-23T09:31:05.130793Z",
          "iopub.status.idle": "2023-08-23T09:31:05.138098Z",
          "shell.execute_reply.started": "2023-08-23T09:31:05.130759Z",
          "shell.execute_reply": "2023-08-23T09:31:05.136554Z"
        },
        "trusted": true,
        "id": "pp5G5dUqw7-k"
      },
      "execution_count": 8,
      "outputs": []
    },
    {
      "cell_type": "markdown",
      "source": [
        "**Early Stopping**"
      ],
      "metadata": {
        "id": "26c8v27Iw7-k"
      }
    },
    {
      "cell_type": "code",
      "source": [
        "early_stopping = EarlyStopping(monitor='val_loss', patience=10, restore_best_weights=True)"
      ],
      "metadata": {
        "execution": {
          "iopub.status.busy": "2023-08-23T09:31:05.139795Z",
          "iopub.execute_input": "2023-08-23T09:31:05.140227Z",
          "iopub.status.idle": "2023-08-23T09:31:05.152421Z",
          "shell.execute_reply.started": "2023-08-23T09:31:05.140186Z",
          "shell.execute_reply": "2023-08-23T09:31:05.150632Z"
        },
        "trusted": true,
        "id": "5LHbqF3Tw7-k"
      },
      "execution_count": 9,
      "outputs": []
    },
    {
      "cell_type": "markdown",
      "source": [
        "**Build a Convolutional Neural Network (CNN):**\n",
        "\n",
        "* CNNs are well-suited for image classification tasks."
      ],
      "metadata": {
        "id": "TGRKbs6Qw7-k"
      }
    },
    {
      "cell_type": "code",
      "source": [
        "model = Sequential([\n",
        "    Conv2D(32, (3, 3), activation='relu', input_shape=(28, 28, 1)),\n",
        "    BatchNormalization(),\n",
        "    Conv2D(32, (3, 3), activation='relu'),\n",
        "    BatchNormalization(),\n",
        "    MaxPooling2D((2, 2)),\n",
        "    Dropout(0.25),\n",
        "\n",
        "    Conv2D(64, (3, 3), activation='relu'),\n",
        "    BatchNormalization(),\n",
        "    Conv2D(64, (3, 3), activation='relu'),\n",
        "    BatchNormalization(),\n",
        "    MaxPooling2D((2, 2)),\n",
        "    Dropout(0.25),\n",
        "\n",
        "    Flatten(),\n",
        "    Dense(512, activation='relu'),\n",
        "    BatchNormalization(),\n",
        "    Dropout(0.5),\n",
        "    Dense(10, activation='softmax')\n",
        "])\n",
        "\n",
        "\n",
        "# Compile the model\n",
        "model.compile(optimizer='adam',\n",
        "              loss='sparse_categorical_crossentropy',\n",
        "              metrics=['accuracy'])"
      ],
      "metadata": {
        "execution": {
          "iopub.status.busy": "2023-08-23T09:31:05.155927Z",
          "iopub.execute_input": "2023-08-23T09:31:05.156552Z",
          "iopub.status.idle": "2023-08-23T09:31:05.584321Z",
          "shell.execute_reply.started": "2023-08-23T09:31:05.156511Z",
          "shell.execute_reply": "2023-08-23T09:31:05.582681Z"
        },
        "trusted": true,
        "id": "16j-CuHMw7-k"
      },
      "execution_count": 10,
      "outputs": []
    },
    {
      "cell_type": "markdown",
      "source": [
        "**Train the Model:**"
      ],
      "metadata": {
        "id": "WRlWTbZlw7-k"
      }
    },
    {
      "cell_type": "code",
      "source": [
        "history = model.fit(datagen.flow(X_train, y_train, batch_size=64),\n",
        "                    epochs=30,\n",
        "                    validation_data=(X_val, y_val),\n",
        "                    callbacks=[lr_scheduler, early_stopping])"
      ],
      "metadata": {
        "execution": {
          "iopub.status.busy": "2023-08-23T09:31:05.589576Z",
          "iopub.execute_input": "2023-08-23T09:31:05.590168Z"
        },
        "trusted": true,
        "colab": {
          "base_uri": "https://localhost:8080/"
        },
        "id": "0O8fMfRdw7-l",
        "outputId": "e013ce34-42aa-4873-f10e-509816d89969"
      },
      "execution_count": 11,
      "outputs": [
        {
          "output_type": "stream",
          "name": "stdout",
          "text": [
            "Epoch 1/30\n",
            "525/525 [==============================] - 145s 269ms/step - loss: 0.7441 - accuracy: 0.7692 - val_loss: 0.1619 - val_accuracy: 0.9542 - lr: 0.0010\n",
            "Epoch 2/30\n",
            "525/525 [==============================] - 145s 276ms/step - loss: 0.2888 - accuracy: 0.9094 - val_loss: 0.0800 - val_accuracy: 0.9739 - lr: 0.0010\n",
            "Epoch 3/30\n",
            "525/525 [==============================] - 144s 275ms/step - loss: 0.2108 - accuracy: 0.9346 - val_loss: 0.0625 - val_accuracy: 0.9795 - lr: 0.0010\n",
            "Epoch 4/30\n",
            "525/525 [==============================] - 138s 263ms/step - loss: 0.1804 - accuracy: 0.9435 - val_loss: 0.0586 - val_accuracy: 0.9814 - lr: 0.0010\n",
            "Epoch 5/30\n",
            "525/525 [==============================] - 141s 268ms/step - loss: 0.1638 - accuracy: 0.9493 - val_loss: 0.0479 - val_accuracy: 0.9845 - lr: 0.0010\n",
            "Epoch 6/30\n",
            "525/525 [==============================] - 145s 277ms/step - loss: 0.1458 - accuracy: 0.9541 - val_loss: 0.0557 - val_accuracy: 0.9827 - lr: 0.0010\n",
            "Epoch 7/30\n",
            "525/525 [==============================] - 140s 266ms/step - loss: 0.1343 - accuracy: 0.9591 - val_loss: 0.0424 - val_accuracy: 0.9861 - lr: 9.0484e-04\n",
            "Epoch 8/30\n",
            "525/525 [==============================] - 143s 273ms/step - loss: 0.1204 - accuracy: 0.9626 - val_loss: 0.0397 - val_accuracy: 0.9887 - lr: 8.1873e-04\n",
            "Epoch 9/30\n",
            "525/525 [==============================] - 142s 271ms/step - loss: 0.1109 - accuracy: 0.9646 - val_loss: 0.0418 - val_accuracy: 0.9875 - lr: 7.4082e-04\n",
            "Epoch 10/30\n",
            "525/525 [==============================] - 138s 263ms/step - loss: 0.1026 - accuracy: 0.9690 - val_loss: 0.0321 - val_accuracy: 0.9893 - lr: 6.7032e-04\n",
            "Epoch 11/30\n",
            "525/525 [==============================] - 140s 267ms/step - loss: 0.0971 - accuracy: 0.9695 - val_loss: 0.0378 - val_accuracy: 0.9881 - lr: 6.0653e-04\n",
            "Epoch 12/30\n",
            "525/525 [==============================] - 139s 264ms/step - loss: 0.0963 - accuracy: 0.9699 - val_loss: 0.0330 - val_accuracy: 0.9896 - lr: 5.4881e-04\n",
            "Epoch 13/30\n",
            "525/525 [==============================] - 145s 276ms/step - loss: 0.0889 - accuracy: 0.9721 - val_loss: 0.0366 - val_accuracy: 0.9888 - lr: 4.9659e-04\n",
            "Epoch 14/30\n",
            "525/525 [==============================] - 142s 269ms/step - loss: 0.0851 - accuracy: 0.9738 - val_loss: 0.0349 - val_accuracy: 0.9887 - lr: 4.4933e-04\n",
            "Epoch 15/30\n",
            "525/525 [==============================] - 143s 272ms/step - loss: 0.0828 - accuracy: 0.9746 - val_loss: 0.0268 - val_accuracy: 0.9910 - lr: 4.0657e-04\n",
            "Epoch 16/30\n",
            "525/525 [==============================] - 151s 287ms/step - loss: 0.0774 - accuracy: 0.9760 - val_loss: 0.0310 - val_accuracy: 0.9898 - lr: 3.6788e-04\n",
            "Epoch 17/30\n",
            "525/525 [==============================] - 143s 272ms/step - loss: 0.0739 - accuracy: 0.9765 - val_loss: 0.0262 - val_accuracy: 0.9910 - lr: 3.3287e-04\n",
            "Epoch 18/30\n",
            "525/525 [==============================] - 141s 268ms/step - loss: 0.0749 - accuracy: 0.9764 - val_loss: 0.0261 - val_accuracy: 0.9913 - lr: 3.0119e-04\n",
            "Epoch 19/30\n",
            "525/525 [==============================] - 140s 266ms/step - loss: 0.0723 - accuracy: 0.9774 - val_loss: 0.0281 - val_accuracy: 0.9914 - lr: 2.7253e-04\n",
            "Epoch 20/30\n",
            "525/525 [==============================] - 141s 269ms/step - loss: 0.0706 - accuracy: 0.9781 - val_loss: 0.0252 - val_accuracy: 0.9924 - lr: 2.4660e-04\n",
            "Epoch 21/30\n",
            "525/525 [==============================] - 137s 261ms/step - loss: 0.0671 - accuracy: 0.9797 - val_loss: 0.0276 - val_accuracy: 0.9920 - lr: 2.2313e-04\n",
            "Epoch 22/30\n",
            "525/525 [==============================] - 144s 274ms/step - loss: 0.0653 - accuracy: 0.9795 - val_loss: 0.0287 - val_accuracy: 0.9904 - lr: 2.0190e-04\n",
            "Epoch 23/30\n",
            "525/525 [==============================] - 141s 269ms/step - loss: 0.0631 - accuracy: 0.9795 - val_loss: 0.0240 - val_accuracy: 0.9917 - lr: 1.8268e-04\n",
            "Epoch 24/30\n",
            "525/525 [==============================] - 140s 267ms/step - loss: 0.0639 - accuracy: 0.9796 - val_loss: 0.0229 - val_accuracy: 0.9930 - lr: 1.6530e-04\n",
            "Epoch 25/30\n",
            "525/525 [==============================] - 138s 262ms/step - loss: 0.0635 - accuracy: 0.9805 - val_loss: 0.0250 - val_accuracy: 0.9924 - lr: 1.4957e-04\n",
            "Epoch 26/30\n",
            "525/525 [==============================] - 142s 271ms/step - loss: 0.0594 - accuracy: 0.9821 - val_loss: 0.0267 - val_accuracy: 0.9913 - lr: 1.3534e-04\n",
            "Epoch 27/30\n",
            "525/525 [==============================] - 140s 266ms/step - loss: 0.0575 - accuracy: 0.9820 - val_loss: 0.0246 - val_accuracy: 0.9918 - lr: 1.2246e-04\n",
            "Epoch 28/30\n",
            "525/525 [==============================] - 140s 266ms/step - loss: 0.0587 - accuracy: 0.9820 - val_loss: 0.0263 - val_accuracy: 0.9908 - lr: 1.1080e-04\n",
            "Epoch 29/30\n",
            "525/525 [==============================] - 140s 266ms/step - loss: 0.0553 - accuracy: 0.9827 - val_loss: 0.0256 - val_accuracy: 0.9910 - lr: 1.0026e-04\n",
            "Epoch 30/30\n",
            "525/525 [==============================] - 142s 271ms/step - loss: 0.0559 - accuracy: 0.9826 - val_loss: 0.0259 - val_accuracy: 0.9919 - lr: 9.0718e-05\n"
          ]
        }
      ]
    },
    {
      "cell_type": "markdown",
      "source": [
        "**Plot training history :**"
      ],
      "metadata": {
        "id": "zhadKtpjw7-l"
      }
    },
    {
      "cell_type": "code",
      "source": [
        "plt.figure(figsize=(12, 4))\n",
        "plt.subplot(1, 2, 1)\n",
        "plt.plot(history.history['accuracy'], label='Training Accuracy')\n",
        "plt.plot(history.history['val_accuracy'], label='Validation Accuracy')\n",
        "plt.xlabel('Epoch')\n",
        "plt.ylabel('Accuracy')\n",
        "plt.legend()\n",
        "\n",
        "plt.subplot(1, 2, 2)\n",
        "plt.plot(history.history['loss'], label='Training Loss')\n",
        "plt.plot(history.history['val_loss'], label='Validation Loss')\n",
        "plt.xlabel('Epoch')\n",
        "plt.ylabel('Loss')\n",
        "plt.legend()\n",
        "\n",
        "plt.tight_layout()\n",
        "plt.show()"
      ],
      "metadata": {
        "trusted": true,
        "colab": {
          "base_uri": "https://localhost:8080/",
          "height": 350
        },
        "id": "snn0ogROw7-l",
        "outputId": "fad3da7a-f99c-41f2-f1e4-a773fbfe20c4"
      },
      "execution_count": 12,
      "outputs": [
        {
          "output_type": "display_data",
          "data": {
            "text/plain": [
              "<Figure size 1200x400 with 2 Axes>"
            ],
            "image/png": "[encoded data removed]"
          },
          "metadata": {}
        }
      ]
    },
    {
      "cell_type": "markdown",
      "source": [
        "**Evaluate the Model on Validation Set :**"
      ],
      "metadata": {
        "id": "kvi3UcPew7-l"
      }
    },
    {
      "cell_type": "code",
      "source": [
        "val_loss, val_accuracy = model.evaluate(X_val, y_val)\n",
        "print(f\"Validation Loss: {val_loss}, Validation Accuracy: {val_accuracy}\")"
      ],
      "metadata": {
        "trusted": true,
        "colab": {
          "base_uri": "https://localhost:8080/"
        },
        "id": "iSEOUSv5w7-l",
        "outputId": "d52da7b1-86bd-4b92-9b04-c7e6cfa9e1aa"
      },
      "execution_count": 13,
      "outputs": [
        {
          "output_type": "stream",
          "name": "stdout",
          "text": [
            "263/263 [==============================] - 9s 32ms/step - loss: 0.0259 - accuracy: 0.9919\n",
            "Validation Loss: 0.025882156565785408, Validation Accuracy: 0.9919047355651855\n"
          ]
        }
      ]
    },
    {
      "cell_type": "markdown",
      "source": [
        "**Plot training history :**"
      ],
      "metadata": {
        "id": "XyzUy2N9w7-l"
      }
    },
    {
      "cell_type": "code",
      "source": [
        "plt.plot(history.history['accuracy'], label='accuracy')\n",
        "plt.plot(history.history['val_accuracy'], label = 'val_accuracy')\n",
        "plt.xlabel('Epoch')\n",
        "plt.ylabel('Accuracy')\n",
        "plt.ylim([0, 1])\n",
        "plt.legend(loc='lower right')\n",
        "plt.show()"
      ],
      "metadata": {
        "trusted": true,
        "colab": {
          "base_uri": "https://localhost:8080/",
          "height": 455
        },
        "id": "vQq3ejTxw7-l",
        "outputId": "c8a3305b-93cc-40bb-98bf-7e677561fa1b"
      },
      "execution_count": 14,
      "outputs": [
        {
          "output_type": "display_data",
          "data": {
            "text/plain": [
              "<Figure size 640x480 with 1 Axes>"
            ],
            "image/png": "[encoded data removed]"
          },
          "metadata": {}
        }
      ]
    },
    {
      "cell_type": "markdown",
      "source": [
        "**Make Predictions:**"
      ],
      "metadata": {
        "id": "mxOn-_l0w7-l"
      }
    },
    {
      "cell_type": "code",
      "source": [
        "y_pred = model.predict(X_test)\n",
        "y_pred_labels = np.argmax(y_pred, axis=1)\n"
      ],
      "metadata": {
        "trusted": true,
        "colab": {
          "base_uri": "https://localhost:8080/"
        },
        "id": "ruEMQSqNw7-l",
        "outputId": "daf4baa3-8fc4-4d80-f3f5-c299ff08e804"
      },
      "execution_count": 15,
      "outputs": [
        {
          "output_type": "stream",
          "name": "stdout",
          "text": [
            "875/875 [==============================] - 30s 34ms/step\n"
          ]
        }
      ]
    },
    {
      "cell_type": "markdown",
      "source": [
        "**Create a Submission File:**"
      ],
      "metadata": {
        "id": "HJ85yiMjw7-l"
      }
    },
    {
      "cell_type": "code",
      "source": [
        "submission = pd.DataFrame({'ImageId': np.arange(1, len(y_pred_labels) + 1), 'Label': y_pred_labels})\n",
        "submission.to_csv(\"submission.csv\", index=False)"
      ],
      "metadata": {
        "trusted": true,
        "id": "Rq4G3gGUw7-l"
      },
      "execution_count": 16,
      "outputs": []
    },
    {
      "cell_type": "markdown",
      "source": [
        "**Visualize some sample predictions :**"
      ],
      "metadata": {
        "id": "OjYeg70jw7-l"
      }
    },
    {
      "cell_type": "code",
      "source": [
        "plt.figure(figsize=(10, 5))\n",
        "for i in range(10):\n",
        "    plt.subplot(2, 5, i + 1)\n",
        "    plt.imshow(X_test[i].reshape(28, 28), cmap='gray')\n",
        "    plt.title(f\"Predicted: {y_pred_labels[i]}\")\n",
        "    plt.axis('off')\n",
        "\n",
        "plt.tight_layout()\n",
        "plt.show()"
      ],
      "metadata": {
        "trusted": true,
        "colab": {
          "base_uri": "https://localhost:8080/",
          "height": 473
        },
        "id": "LFhWUa7Yw7-l",
        "outputId": "8661854e-ff33-475d-d58c-963ad5c5cd62"
      },
      "execution_count": 17,
      "outputs": [
        {
          "output_type": "display_data",
          "data": {
            "text/plain": [
              "<Figure size 1000x500 with 10 Axes>"
            ],
            "image/png": "[encoded data removed]"
          },
          "metadata": {}
        }
      ]
    }
  ]
}